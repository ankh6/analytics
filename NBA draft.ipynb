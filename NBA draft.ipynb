{
 "cells": [
  {
   "cell_type": "code",
   "execution_count": 1,
   "id": "b2062f49",
   "metadata": {},
   "outputs": [],
   "source": [
    "import numpy as np\n",
    "import pandas as pd\n",
    "import matplotlib.pyplot as plt\n",
    "import seaborn as sns\n",
    "import math\n",
    "from typing import List, Tuple"
   ]
  },
  {
   "cell_type": "code",
   "execution_count": 2,
   "id": "45d3b9ca",
   "metadata": {},
   "outputs": [],
   "source": [
    "draft = pd.read_csv(\"./draft78.csv\")\n",
    "seasons = pd.read_csv(\"./season78.csv\")\n"
   ]
  },
  {
   "cell_type": "markdown",
   "id": "8aeaa1b6",
   "metadata": {},
   "source": [
    "##### Utility functions"
   ]
  },
  {
   "cell_type": "code",
   "execution_count": 3,
   "id": "f98705f1",
   "metadata": {},
   "outputs": [],
   "source": [
    "def create_normal_distribution(size:int):\n",
    "    return np.random.normal(size=size)\n",
    "\n",
    "def convert_to_series(data: List[str]):\n",
    "    return pd.Series(data=data)\n",
    "\n",
    "def delete_features(source_dataframe: pd.DataFrame, columns: List[str], inplace=True):\n",
    "    source_dataframe.drop(labels=columns, axis=1, inplace=inplace)\n",
    "\n",
    "def df_view_is_equal_comparison(source_dataframe : pd.DataFrame, features : Tuple[str], value=0):\n",
    "    return source_dataframe.loc[(source_dataframe.loc[:,features] == value)]\n",
    "\n",
    "def df_view_is_less_comparison(source_dataframe: pd.DataFrame, features : Tuple[str], value=0):\n",
    "    return source_dataframe.loc[(source_dataframe.loc[:,features] < value)]\n",
    "\n",
    "def df_view_is_more_comparison(source_dataframe: pd.DataFrame, features: Tuple[str], value=0):\n",
    "    return source_dataframe.loc[(source_dataframe.loc[:,features] > value)]\n",
    "\n",
    "def convert_boolean_to_int(bool_value):\n",
    "    return int(bool_value)\n"
   ]
  },
  {
   "cell_type": "markdown",
   "id": "f4869c03",
   "metadata": {},
   "source": [
    "# Context\n",
    "\n",
    "Analysts often debate about the [place of an NBA Draft class (**DC**) into the History](https://bleacherreport.com/articles/2784908-ranking-the-top-10-nba-draft-classes-of-all-time). Understanding the contribution of a DC to the NBA history seems to be paramount to observers. Which draft class is the G.O.A.T. (greatest-of-all-time), is a recurring theme. Besides pure statistics, opinions are unfortunately **biaised**, sensible to **subjectivity** : some analysts were former basketball players and teammates of NBA players,etc. The votes are not based on the offensive, defensive and overall impact but rather on which players played with whom.\n",
    "\n",
    "## Objective\n",
    "\n",
    "This project aims at providing leads to objectively answer this question. Several parameters will be analyzed to better understand the characteristics of a great DC. We first look at the one of the GOAT NBA draft, ask questions and explore the dataset. Then, we will look at the Win share per player and on the overall draft.\n",
    "\n",
    "This projects is not meant to be exhaustive but rather an entry point for curious NBA enthusiasts. Other dimensions sucha as the number of championships won, the accolades, the +/- ratio must be taken into account to develop an informed viewpoint"
   ]
  },
  {
   "cell_type": "markdown",
   "id": "2b0f7fe2",
   "metadata": {},
   "source": [
    "## Feature Engineering\n"
   ]
  },
  {
   "cell_type": "code",
   "execution_count": 4,
   "id": "87c25a41",
   "metadata": {},
   "outputs": [
    {
     "data": {
      "text/plain": [
       "Pick        int64\n",
       "Player     object\n",
       "Yrs       float64\n",
       "Draft       int64\n",
       "dtype: object"
      ]
     },
     "execution_count": 4,
     "metadata": {},
     "output_type": "execute_result"
    }
   ],
   "source": [
    "draft.dtypes"
   ]
  },
  {
   "cell_type": "markdown",
   "id": "a91a5d14",
   "metadata": {},
   "source": [
    "Let's first cleanup inconsistencies about features' data types : we convert the more restrictive float64 dtype to the less restrictive int64 dtype. Having the same types for numbers will facilitate some calculations"
   ]
  },
  {
   "cell_type": "code",
   "execution_count": 5,
   "id": "577d47bf",
   "metadata": {
    "scrolled": true
   },
   "outputs": [
    {
     "name": "stdout",
     "output_type": "stream",
     "text": [
      "Types of features Pick       int64\n",
      "Player    object\n",
      "Yrs        int64\n",
      "Draft      int64\n",
      "dtype: object\n",
      "\n",
      "Features of the Draft dataframe Index(['Pick', 'Player', 'Yrs', 'Draft'], dtype='object')\n"
     ]
    }
   ],
   "source": [
    "def create_dataframe_given_year(source_data_frame: pd.DataFrame, features:List[str], draft_year:int):\n",
    "    return source_data_frame[source_data_frame[features] == draft_year]\n",
    "\n",
    "def convert_to_object(source_dataframe: pd.DataFrame , feature : str, new_type:str):\n",
    "    source_dataframe[feature] = source_dataframe[feature].astype(new_type)\n",
    "    \n",
    "\n",
    "draft.loc[:,\"Yrs\"].fillna(0,inplace=True)\n",
    "draft.loc[:,\"Yrs\"].astype(\"int64\")\n",
    "convert_to_object(draft, \"Yrs\", \"int64\")\n",
    "print(f\"Types of features {draft.dtypes}\\n\")\n",
    "print(f\"Features of the Draft dataframe {draft.columns}\")"
   ]
  },
  {
   "cell_type": "markdown",
   "id": "61976e30",
   "metadata": {},
   "source": [
    "We can extract another useful information that is the retirement year for each player by summing the number of years played (*Yrs*) with the draft year (*Draft*)"
   ]
  },
  {
   "cell_type": "code",
   "execution_count": 6,
   "id": "1a486bab",
   "metadata": {},
   "outputs": [
    {
     "data": {
      "text/html": [
       "<div>\n",
       "<style scoped>\n",
       "    .dataframe tbody tr th:only-of-type {\n",
       "        vertical-align: middle;\n",
       "    }\n",
       "\n",
       "    .dataframe tbody tr th {\n",
       "        vertical-align: top;\n",
       "    }\n",
       "\n",
       "    .dataframe thead th {\n",
       "        text-align: right;\n",
       "    }\n",
       "</style>\n",
       "<table border=\"1\" class=\"dataframe\">\n",
       "  <thead>\n",
       "    <tr style=\"text-align: right;\">\n",
       "      <th></th>\n",
       "      <th>Pick</th>\n",
       "      <th>Player</th>\n",
       "      <th>Yrs</th>\n",
       "      <th>Draft</th>\n",
       "      <th>retirement_year</th>\n",
       "    </tr>\n",
       "  </thead>\n",
       "  <tbody>\n",
       "    <tr>\n",
       "      <th>0</th>\n",
       "      <td>1</td>\n",
       "      <td>Mychal Thompson</td>\n",
       "      <td>12</td>\n",
       "      <td>1978</td>\n",
       "      <td>1990</td>\n",
       "    </tr>\n",
       "    <tr>\n",
       "      <th>1</th>\n",
       "      <td>2</td>\n",
       "      <td>Phil Ford</td>\n",
       "      <td>7</td>\n",
       "      <td>1978</td>\n",
       "      <td>1985</td>\n",
       "    </tr>\n",
       "    <tr>\n",
       "      <th>2</th>\n",
       "      <td>3</td>\n",
       "      <td>Rick Robey</td>\n",
       "      <td>8</td>\n",
       "      <td>1978</td>\n",
       "      <td>1986</td>\n",
       "    </tr>\n",
       "    <tr>\n",
       "      <th>3</th>\n",
       "      <td>4</td>\n",
       "      <td>Micheal Ray Richardson</td>\n",
       "      <td>8</td>\n",
       "      <td>1978</td>\n",
       "      <td>1986</td>\n",
       "    </tr>\n",
       "    <tr>\n",
       "      <th>4</th>\n",
       "      <td>5</td>\n",
       "      <td>Purvis Short</td>\n",
       "      <td>12</td>\n",
       "      <td>1978</td>\n",
       "      <td>1990</td>\n",
       "    </tr>\n",
       "  </tbody>\n",
       "</table>\n",
       "</div>"
      ],
      "text/plain": [
       "   Pick                  Player  Yrs  Draft  retirement_year\n",
       "0     1         Mychal Thompson   12   1978             1990\n",
       "1     2               Phil Ford    7   1978             1985\n",
       "2     3              Rick Robey    8   1978             1986\n",
       "3     4  Micheal Ray Richardson    8   1978             1986\n",
       "4     5            Purvis Short   12   1978             1990"
      ]
     },
     "execution_count": 6,
     "metadata": {},
     "output_type": "execute_result"
    }
   ],
   "source": [
    "draft[\"retirement_year\"] = draft[\"Yrs\"] + draft[\"Draft\"]\n",
    "draft.head()"
   ]
  },
  {
   "cell_type": "markdown",
   "id": "07fa8820",
   "metadata": {},
   "source": [
    "Let's split those players into two categories : lottery (LP) and non lottery picks (NLP). Lottery picks are players who are selected from 1st to 15th choice. Other players are considered NLPs"
   ]
  },
  {
   "cell_type": "code",
   "execution_count": 7,
   "id": "91eea618",
   "metadata": {},
   "outputs": [
    {
     "name": "stdout",
     "output_type": "stream",
     "text": [
      "16th pick - NLP :  True\n",
      "15th pick - LP :  True\n"
     ]
    }
   ],
   "source": [
    "# Separates lottery pick draft\n",
    "# i.e. any player who was selected in the fifteenth place or earlier from non-lottery\n",
    "draft[\"is_lottery_pick\"] = draft[\"Pick\"] < 16\n",
    "# Let's look at the information about the 16th pick in the draft dataset\n",
    "# As discussed above, the component on the \"is_lottery_pick\" column vector should be false\n",
    "print(\"16th pick - NLP : \", draft.iloc[15].is_lottery_pick == False)\n",
    "# Quick test for the 15th pick . . .\n",
    "print(\"15th pick - LP : \", draft.iloc[14].is_lottery_pick == True)"
   ]
  },
  {
   "cell_type": "code",
   "execution_count": 8,
   "id": "db3a781c",
   "metadata": {},
   "outputs": [
    {
     "data": {
      "text/html": [
       "<div>\n",
       "<style scoped>\n",
       "    .dataframe tbody tr th:only-of-type {\n",
       "        vertical-align: middle;\n",
       "    }\n",
       "\n",
       "    .dataframe tbody tr th {\n",
       "        vertical-align: top;\n",
       "    }\n",
       "\n",
       "    .dataframe thead th {\n",
       "        text-align: right;\n",
       "    }\n",
       "</style>\n",
       "<table border=\"1\" class=\"dataframe\">\n",
       "  <thead>\n",
       "    <tr style=\"text-align: right;\">\n",
       "      <th></th>\n",
       "      <th>Pick</th>\n",
       "      <th>Player</th>\n",
       "      <th>Yrs</th>\n",
       "      <th>Draft</th>\n",
       "      <th>retirement_year</th>\n",
       "      <th>is_lottery_pick</th>\n",
       "    </tr>\n",
       "  </thead>\n",
       "  <tbody>\n",
       "    <tr>\n",
       "      <th>0</th>\n",
       "      <td>1</td>\n",
       "      <td>Mychal Thompson</td>\n",
       "      <td>12</td>\n",
       "      <td>1978</td>\n",
       "      <td>1990</td>\n",
       "      <td>1</td>\n",
       "    </tr>\n",
       "    <tr>\n",
       "      <th>1</th>\n",
       "      <td>2</td>\n",
       "      <td>Phil Ford</td>\n",
       "      <td>7</td>\n",
       "      <td>1978</td>\n",
       "      <td>1985</td>\n",
       "      <td>1</td>\n",
       "    </tr>\n",
       "    <tr>\n",
       "      <th>2</th>\n",
       "      <td>3</td>\n",
       "      <td>Rick Robey</td>\n",
       "      <td>8</td>\n",
       "      <td>1978</td>\n",
       "      <td>1986</td>\n",
       "      <td>1</td>\n",
       "    </tr>\n",
       "    <tr>\n",
       "      <th>3</th>\n",
       "      <td>4</td>\n",
       "      <td>Micheal Ray Richardson</td>\n",
       "      <td>8</td>\n",
       "      <td>1978</td>\n",
       "      <td>1986</td>\n",
       "      <td>1</td>\n",
       "    </tr>\n",
       "    <tr>\n",
       "      <th>4</th>\n",
       "      <td>5</td>\n",
       "      <td>Purvis Short</td>\n",
       "      <td>12</td>\n",
       "      <td>1978</td>\n",
       "      <td>1990</td>\n",
       "      <td>1</td>\n",
       "    </tr>\n",
       "  </tbody>\n",
       "</table>\n",
       "</div>"
      ],
      "text/plain": [
       "   Pick                  Player  Yrs  Draft  retirement_year  is_lottery_pick\n",
       "0     1         Mychal Thompson   12   1978             1990                1\n",
       "1     2               Phil Ford    7   1978             1985                1\n",
       "2     3              Rick Robey    8   1978             1986                1\n",
       "3     4  Micheal Ray Richardson    8   1978             1986                1\n",
       "4     5            Purvis Short   12   1978             1990                1"
      ]
     },
     "execution_count": 8,
     "metadata": {},
     "output_type": "execute_result"
    }
   ],
   "source": [
    "# Converts boolean value into an integer\n",
    "# 1, LPs\n",
    "# 0, NLPS\n",
    "draft.loc[:,\"is_lottery_pick\"] = draft.loc[:,\"is_lottery_pick\"].apply(func=convert_boolean_to_int)\n",
    "draft.head()"
   ]
  },
  {
   "cell_type": "markdown",
   "id": "795e1d73",
   "metadata": {},
   "source": [
    "We first start our analysis by looking closer to the 1984 NBA Draft, widely regarded as the best NBA Draft class (even if some analysts argue that 1985 NBA Draft is better)\n",
    "\n",
    "You might ask yourself which critera analysts look at to determine a great DC.\n",
    "\n",
    "Looking at [bleacher report article](https://bleacherreport.com/articles/2784908-ranking-the-top-10-nba-draft-classes-of-all-time), these parameters were taken into account:\n",
    "- Players who became stars, i.e. star power and depth\n",
    "- Career win shares, i.e. [player statistic which attempts to divvy up credit for team success to the individuals on the team](https://www.basketball-reference.com/about/ws.html)\n",
    "    - 1 win = 1 win share\n",
    "    - Offensive win share : marginal offense / marginal points per win\n",
    "        - marginal offense (for a player) = points produced in a season - 0.92 * (league points per possession * number of offensive possesions)\n",
    "        - League points per possession = Points produce in a season across the league / number of offensive possesions\n",
    "        - marginal points per win (for a player) = 0.32 * league points per game * ((team pace / league pace))\n",
    "    "
   ]
  },
  {
   "cell_type": "code",
   "execution_count": 9,
   "id": "a4cf9ae8",
   "metadata": {},
   "outputs": [
    {
     "data": {
      "text/html": [
       "<div>\n",
       "<style scoped>\n",
       "    .dataframe tbody tr th:only-of-type {\n",
       "        vertical-align: middle;\n",
       "    }\n",
       "\n",
       "    .dataframe tbody tr th {\n",
       "        vertical-align: top;\n",
       "    }\n",
       "\n",
       "    .dataframe thead th {\n",
       "        text-align: right;\n",
       "    }\n",
       "</style>\n",
       "<table border=\"1\" class=\"dataframe\">\n",
       "  <thead>\n",
       "    <tr style=\"text-align: right;\">\n",
       "      <th></th>\n",
       "      <th>Pick</th>\n",
       "      <th>Player</th>\n",
       "      <th>Yrs</th>\n",
       "      <th>Draft</th>\n",
       "      <th>retirement_year</th>\n",
       "      <th>is_lottery_pick</th>\n",
       "    </tr>\n",
       "  </thead>\n",
       "  <tbody>\n",
       "    <tr>\n",
       "      <th>1292</th>\n",
       "      <td>1</td>\n",
       "      <td>Hakeem Olajuwon</td>\n",
       "      <td>18</td>\n",
       "      <td>1984</td>\n",
       "      <td>2002</td>\n",
       "      <td>1</td>\n",
       "    </tr>\n",
       "    <tr>\n",
       "      <th>1293</th>\n",
       "      <td>2</td>\n",
       "      <td>Sam Bowie</td>\n",
       "      <td>10</td>\n",
       "      <td>1984</td>\n",
       "      <td>1994</td>\n",
       "      <td>1</td>\n",
       "    </tr>\n",
       "    <tr>\n",
       "      <th>1294</th>\n",
       "      <td>3</td>\n",
       "      <td>Michael Jordan</td>\n",
       "      <td>15</td>\n",
       "      <td>1984</td>\n",
       "      <td>1999</td>\n",
       "      <td>1</td>\n",
       "    </tr>\n",
       "    <tr>\n",
       "      <th>1295</th>\n",
       "      <td>4</td>\n",
       "      <td>Sam Perkins</td>\n",
       "      <td>17</td>\n",
       "      <td>1984</td>\n",
       "      <td>2001</td>\n",
       "      <td>1</td>\n",
       "    </tr>\n",
       "    <tr>\n",
       "      <th>1296</th>\n",
       "      <td>5</td>\n",
       "      <td>Charles Barkley</td>\n",
       "      <td>16</td>\n",
       "      <td>1984</td>\n",
       "      <td>2000</td>\n",
       "      <td>1</td>\n",
       "    </tr>\n",
       "  </tbody>\n",
       "</table>\n",
       "</div>"
      ],
      "text/plain": [
       "      Pick           Player  Yrs  Draft  retirement_year  is_lottery_pick\n",
       "1292     1  Hakeem Olajuwon   18   1984             2002                1\n",
       "1293     2        Sam Bowie   10   1984             1994                1\n",
       "1294     3   Michael Jordan   15   1984             1999                1\n",
       "1295     4      Sam Perkins   17   1984             2001                1\n",
       "1296     5  Charles Barkley   16   1984             2000                1"
      ]
     },
     "execution_count": 9,
     "metadata": {},
     "output_type": "execute_result"
    }
   ],
   "source": [
    "draft_84 = create_dataframe_given_year(source_data_frame=draft, features=\"Draft\", draft_year=1984)\n",
    "draft_84.head()"
   ]
  },
  {
   "cell_type": "markdown",
   "id": "2bfae85e",
   "metadata": {},
   "source": [
    "Selecting a subset of the original dataframe has kept the old index for the rows : first element has index 1292.\n",
    "Let's re-index the dataframe so that first element has index 0"
   ]
  },
  {
   "cell_type": "code",
   "execution_count": 10,
   "id": "8559d3ad",
   "metadata": {},
   "outputs": [],
   "source": [
    "# Creates a new index starting from 0 to the size of the DataFrame\n",
    "new_index = [number for number in range(0,len(draft_84.index))]\n",
    "# inplace=True does not create a copy dataframe\n",
    "draft_84.set_index(pd.Index(new_index),inplace=True)"
   ]
  },
  {
   "cell_type": "code",
   "execution_count": 11,
   "id": "c6cd11f8",
   "metadata": {},
   "outputs": [
    {
     "data": {
      "text/html": [
       "<div>\n",
       "<style scoped>\n",
       "    .dataframe tbody tr th:only-of-type {\n",
       "        vertical-align: middle;\n",
       "    }\n",
       "\n",
       "    .dataframe tbody tr th {\n",
       "        vertical-align: top;\n",
       "    }\n",
       "\n",
       "    .dataframe thead th {\n",
       "        text-align: right;\n",
       "    }\n",
       "</style>\n",
       "<table border=\"1\" class=\"dataframe\">\n",
       "  <thead>\n",
       "    <tr style=\"text-align: right;\">\n",
       "      <th></th>\n",
       "      <th>Pick</th>\n",
       "      <th>Player</th>\n",
       "      <th>Yrs</th>\n",
       "      <th>Draft</th>\n",
       "      <th>retirement_year</th>\n",
       "      <th>is_lottery_pick</th>\n",
       "    </tr>\n",
       "  </thead>\n",
       "  <tbody>\n",
       "    <tr>\n",
       "      <th>0</th>\n",
       "      <td>1</td>\n",
       "      <td>Hakeem Olajuwon</td>\n",
       "      <td>18</td>\n",
       "      <td>1984</td>\n",
       "      <td>2002</td>\n",
       "      <td>1</td>\n",
       "    </tr>\n",
       "    <tr>\n",
       "      <th>1</th>\n",
       "      <td>2</td>\n",
       "      <td>Sam Bowie</td>\n",
       "      <td>10</td>\n",
       "      <td>1984</td>\n",
       "      <td>1994</td>\n",
       "      <td>1</td>\n",
       "    </tr>\n",
       "    <tr>\n",
       "      <th>2</th>\n",
       "      <td>3</td>\n",
       "      <td>Michael Jordan</td>\n",
       "      <td>15</td>\n",
       "      <td>1984</td>\n",
       "      <td>1999</td>\n",
       "      <td>1</td>\n",
       "    </tr>\n",
       "    <tr>\n",
       "      <th>3</th>\n",
       "      <td>4</td>\n",
       "      <td>Sam Perkins</td>\n",
       "      <td>17</td>\n",
       "      <td>1984</td>\n",
       "      <td>2001</td>\n",
       "      <td>1</td>\n",
       "    </tr>\n",
       "    <tr>\n",
       "      <th>4</th>\n",
       "      <td>5</td>\n",
       "      <td>Charles Barkley</td>\n",
       "      <td>16</td>\n",
       "      <td>1984</td>\n",
       "      <td>2000</td>\n",
       "      <td>1</td>\n",
       "    </tr>\n",
       "  </tbody>\n",
       "</table>\n",
       "</div>"
      ],
      "text/plain": [
       "   Pick           Player  Yrs  Draft  retirement_year  is_lottery_pick\n",
       "0     1  Hakeem Olajuwon   18   1984             2002                1\n",
       "1     2        Sam Bowie   10   1984             1994                1\n",
       "2     3   Michael Jordan   15   1984             1999                1\n",
       "3     4      Sam Perkins   17   1984             2001                1\n",
       "4     5  Charles Barkley   16   1984             2000                1"
      ]
     },
     "execution_count": 11,
     "metadata": {},
     "output_type": "execute_result"
    }
   ],
   "source": [
    "draft_84.head()"
   ]
  },
  {
   "cell_type": "code",
   "execution_count": 12,
   "id": "9b01b7e8",
   "metadata": {},
   "outputs": [
    {
     "data": {
      "text/plain": [
       "0      Hakeem Olajuwon\n",
       "1            Sam Bowie\n",
       "2       Michael Jordan\n",
       "3          Sam Perkins\n",
       "4      Charles Barkley\n",
       "            ...       \n",
       "223         Randy Dunn\n",
       "224     Dan Pelekoudas\n",
       "225        Mike Toomer\n",
       "226       Martin Clark\n",
       "227          Dan Trant\n",
       "Name: Player, Length: 228, dtype: object"
      ]
     },
     "execution_count": 12,
     "metadata": {},
     "output_type": "execute_result"
    }
   ],
   "source": [
    "player_84 = draft_84.loc[:,\"Player\"]\n",
    "player_84"
   ]
  },
  {
   "cell_type": "code",
   "execution_count": 13,
   "id": "d26b2559",
   "metadata": {},
   "outputs": [],
   "source": [
    "def extract_attributes_from_player_name(data : pd.Series):\n",
    "    series_as_list = data.str.split(\" \").to_list()\n",
    "    # Creates a flat, uninitialized numpy array, i.e. 1D numpy array\n",
    "    first_names = []\n",
    "    last_names = []\n",
    "    for single_player in series_as_list:\n",
    "        size_of_name = len(single_player)\n",
    "        first_name = single_player[0]\n",
    "        if single_player[size_of_name - 1] == \"II\" or single_player[size_of_name - 1] == \"III\":\n",
    "            last_name = single_player[size_of_name - 2]\n",
    "        else:\n",
    "            last_name  = single_player[size_of_name - 1]\n",
    "        first_names.append(first_name)\n",
    "        last_names.append(last_name)\n",
    "    return (first_names, last_names)\n"
   ]
  },
  {
   "cell_type": "markdown",
   "id": "02d1b216",
   "metadata": {},
   "source": [
    "We see that few players have a surname.We won't keep track of these NAs\n",
    "We create two columns called \"Players first name\" and \"Players last name\" based on the Series that are processed above"
   ]
  },
  {
   "cell_type": "code",
   "execution_count": 14,
   "id": "b35ab089",
   "metadata": {},
   "outputs": [],
   "source": [
    "def create_new_feature_column(source_dataframe : pd.DataFrame, column_name : str, data : pd.Series):\n",
    "    ''' Creates a new column into the specified dataframe\n",
    "    \n",
    "    Arguments\n",
    "    source_dataframe, the dataframe where the column will be inserted\n",
    "    column_name, the name of the new column\n",
    "    data, the values that populate the new column\n",
    "    '''\n",
    "    source_dataframe[column_name] = data\n",
    "    \n",
    "\n",
    "# Un-comment these cells if you want to extract both first name and last name from the Player feature\n",
    "\n",
    "#first_names, last_names = extract_attributes_from_player_name(player_84)\n",
    "#first_name_as_series = pd.Series(data=first_names)\n",
    "#last_name_as_series = pd.Series(data=last_names)\n",
    "#create_new_feature_column(draft_84, \"players_first_name\", first_name_as_series)\n",
    "#create_new_feature_column(draft_84, \"players_last_name\", last_name_as_series)"
   ]
  },
  {
   "cell_type": "markdown",
   "id": "8894dd8e",
   "metadata": {},
   "source": [
    "We summarize what we did above\n",
    "1. Players who are selected before the 16th place are called *lottery pick*. We extracted this feature by giving the attribute is_lottery_pick to players who have been drafter before the 16th pick.\n",
    "2. We extracted both first and last name from the *Player* feature. We paid attention to players who carry the name of their fathers, i.e. players with the number of generation at the end of their names. Once the features were extracted, we got rid out of the *Player* feature\n",
    "3. We converted the *Yrs* feature to a less restrictive data type, *int64*. This has facilitated the next step\n",
    "4. We extracted the *retirement_year* feature by summing the *Yrs* with the Year of their draft, here 1984\n",
    "5. We created the 1984 NBA Draft dataframe"
   ]
  },
  {
   "cell_type": "markdown",
   "id": "f153f838",
   "metadata": {},
   "source": [
    "## Exploratory Data Analysis (EDA)\n",
    "\n",
    "Once the feature engineering is done, we can proceed with the EDA, that is [*an approach of analyzing data sets to summarize their main characteristics, often using statistical graphics and other data visualization methods*](https://en.wikipedia.org/wiki/Exploratory_data_analysis).\n",
    "EDA is primarly used for seeing what the data can tell us beyond the formal modeling."
   ]
  },
  {
   "cell_type": "markdown",
   "id": "4c54fed6",
   "metadata": {},
   "source": [
    "Let's first look at the *Yrs* feature. I am starting by asking simple questions that descriptive statistics can easily answer:\n",
    "- What is the average or median years duration in the league ?\n",
    "- How tight is the spread ?\n",
    "- Is there any difference between lottery and non-lottery picks ?\n",
    "- Do lottery picks stay longer in the league ?\n",
    "- Does being a lottery pick guarantee you a place in the NBA ?\n",
    "- What is the maximum duration in the league ?\n",
    "- How do the sample data look like ?"
   ]
  },
  {
   "cell_type": "markdown",
   "id": "1ee84006",
   "metadata": {},
   "source": [
    "### Descriptive statistics"
   ]
  },
  {
   "cell_type": "markdown",
   "id": "51335016",
   "metadata": {},
   "source": [
    "##### What is the average or median years duration in the league ?\n",
    "\n",
    "- Null hypothesis (**H0**): the sample is drawn from a normal distribution\n",
    "- Alternative hypothesis (**Ha**): the sample is not drawn from a normal distribution"
   ]
  },
  {
   "cell_type": "code",
   "execution_count": 15,
   "id": "befa7387",
   "metadata": {},
   "outputs": [],
   "source": [
    "from scipy import stats\n",
    "\n",
    "def test_normal_distribution_shapiro_wilk(data: pd.Series, title : str, info=False):\n",
    "    res = stats.shapiro(data)\n",
    "    if info:\n",
    "        print(f\"Statistic: {res.statistic}\")\n",
    "        print(f\"p-value: {res.pvalue}\")\n",
    "    data.plot(kind=\"hist\", title=title)\n",
    "    return res.pvalue < 0.05"
   ]
  },
  {
   "cell_type": "code",
   "execution_count": 16,
   "id": "3dbdeedc",
   "metadata": {},
   "outputs": [
    {
     "name": "stdout",
     "output_type": "stream",
     "text": [
      "Mean: 1.6403508771929824\n",
      "Standard deviation: 4.00028015094374\n",
      "Skweness: 2.8972655835499106\n",
      "Kurtosis: 8.016463382394397\n",
      "\n",
      "Statistic: 0.4781811833381653\n",
      "p-value: 2.075667577111762e-25\n"
     ]
    },
    {
     "data": {
      "image/png": "[encoded data removed]",
      "text/plain": [
       "<Figure size 432x288 with 1 Axes>"
      ]
     },
     "metadata": {
      "needs_background": "light"
     },
     "output_type": "display_data"
    }
   ],
   "source": [
    "years = draft_84.loc[:,\"Yrs\"]\n",
    "def compute_descriptive_statistics(data: pd.Series, charting_enabled=False, chart_title=\"\", test_normality_info=True):\n",
    "    res = stats.describe(data)\n",
    "    print(f\"Mean: {res.mean}\\nStandard deviation: {math.sqrt(res.variance)}\\nSkweness: {res.skewness}\\nKurtosis: {res.kurtosis}\\n\")\n",
    "    if charting_enabled:\n",
    "        test_normal_distribution_shapiro_wilk(data, chart_title ,test_normality_info)\n",
    "\n",
    "compute_descriptive_statistics(years, charting_enabled=True, chart_title=\"Frequency of years played - '84 NBA Draft'\")"
   ]
  },
  {
   "cell_type": "code",
   "execution_count": 17,
   "id": "fe046a51",
   "metadata": {},
   "outputs": [
    {
     "data": {
      "text/plain": [
       "0.2543859649122807"
      ]
     },
     "execution_count": 17,
     "metadata": {},
     "output_type": "execute_result"
    }
   ],
   "source": [
    "years[years > 0].count() / years.size"
   ]
  },
  {
   "cell_type": "markdown",
   "id": "d40d4fd1",
   "metadata": {},
   "source": [
    "Results above give us some insights, mainly:\n",
    "- Data are not normally distributed\n",
    "    - As discussed by the [documentation](https://docs.scipy.org/doc/scipy/reference/generated/scipy.stats.shapiro.html), the chance of rejecting the null hypothesis when it is true is close to 5% regardless of sample size). Our p-value is ~2*10^-25. This means that the observed outcome given the null hypothesis is true,  is very unlikely. We reject the null hypothesis.\n",
    "    - Mean is different than 0\n",
    "    - Standard Deviation is different than 0\n",
    "    - Positive skewness : There is a tail on the right-end of the distribution\n",
    "- The numbers of years played greatly varies : from 0 to 20 years\n",
    "    - Most of the players in that year never play into the NBA\n",
    "    - Few players have played in the NBA (25 %)\n"
   ]
  },
  {
   "cell_type": "markdown",
   "id": "eb624713",
   "metadata": {},
   "source": [
    "##### Is there any difference between lottery and non-lottery picks ?\n",
    "\n",
    "If a player is a lottery pick, is there a difference in terms of years in the league ?"
   ]
  },
  {
   "cell_type": "code",
   "execution_count": 18,
   "id": "9f20371c",
   "metadata": {},
   "outputs": [
    {
     "name": "stdout",
     "output_type": "stream",
     "text": [
      "Descriptive statistics - Years in the NBA - Lottery picks\n",
      "Mean: 11.733333333333333\n",
      "Standard deviation: 5.700459463520295\n",
      "Skweness: -0.08133207794930418\n",
      "Kurtosis: -1.278220342244255\n",
      "\n",
      "Descriptive statistics - Years in the NBA - Not lottery picks\n",
      "Mean: 0.9295774647887324\n",
      "Standard deviation: 2.6969091865030395\n",
      "Skweness: 3.9479360293633303\n",
      "Kurtosis: 17.618411894931175\n",
      "\n"
     ]
    },
    {
     "data": {
      "image/png": "[encoded data removed]",
      "text/plain": [
       "<Figure size 432x288 with 1 Axes>"
      ]
     },
     "metadata": {
      "needs_background": "light"
     },
     "output_type": "display_data"
    }
   ],
   "source": [
    "df_view_lottery_pick = df_view_is_equal_comparison(draft_84,\"is_lottery_pick\", True)\n",
    "df_view_not_lottery_pick = df_view_is_equal_comparison(draft_84, \"is_lottery_pick\", False)\n",
    "# Selects all the rows for the Yrs feature given player is a lottery pick\n",
    "lottery_pick_series = df_view_lottery_pick.loc[:,\"Yrs\"]\n",
    "# Selects all the rows for the Yrs feature given player is not a lottery pick\n",
    "not_lottery_pick_series = df_view_not_lottery_pick.loc[:,\"Yrs\"]\n",
    "print(\"Descriptive statistics - Years in the NBA - Lottery picks\")\n",
    "compute_descriptive_statistics(lottery_pick_series, charting_enabled=False)\n",
    "print(\"Descriptive statistics - Years in the NBA - Not lottery picks\")\n",
    "compute_descriptive_statistics(not_lottery_pick_series, charting_enabled=False)\n",
    "# Creates a boxplot to compare the distribution between LPs and NLPs\n",
    "sns.boxplot(x=\"is_lottery_pick\", y=\"Yrs\", data=draft_84, order=[True, False]);"
   ]
  },
  {
   "cell_type": "markdown",
   "id": "cc13163a",
   "metadata": {},
   "source": [
    "For NLP, there really are two players who have beaten the odds and were able to play more than the 75% of the distribution of LP ! That is an accomplishment. Who are thses two players ?\n",
    "\n",
    "Let's have a look"
   ]
  },
  {
   "cell_type": "code",
   "execution_count": 19,
   "id": "76dbe59b",
   "metadata": {},
   "outputs": [
    {
     "data": {
      "text/html": [
       "<div>\n",
       "<style scoped>\n",
       "    .dataframe tbody tr th:only-of-type {\n",
       "        vertical-align: middle;\n",
       "    }\n",
       "\n",
       "    .dataframe tbody tr th {\n",
       "        vertical-align: top;\n",
       "    }\n",
       "\n",
       "    .dataframe thead th {\n",
       "        text-align: right;\n",
       "    }\n",
       "</style>\n",
       "<table border=\"1\" class=\"dataframe\">\n",
       "  <thead>\n",
       "    <tr style=\"text-align: right;\">\n",
       "      <th></th>\n",
       "      <th>Pick</th>\n",
       "      <th>Player</th>\n",
       "      <th>Yrs</th>\n",
       "      <th>Draft</th>\n",
       "      <th>retirement_year</th>\n",
       "      <th>is_lottery_pick</th>\n",
       "    </tr>\n",
       "  </thead>\n",
       "  <tbody>\n",
       "    <tr>\n",
       "      <th>15</th>\n",
       "      <td>16</td>\n",
       "      <td>John Stockton</td>\n",
       "      <td>19</td>\n",
       "      <td>1984</td>\n",
       "      <td>2003</td>\n",
       "      <td>0</td>\n",
       "    </tr>\n",
       "    <tr>\n",
       "      <th>45</th>\n",
       "      <td>46</td>\n",
       "      <td>Jerome Kersey</td>\n",
       "      <td>17</td>\n",
       "      <td>1984</td>\n",
       "      <td>2001</td>\n",
       "      <td>0</td>\n",
       "    </tr>\n",
       "  </tbody>\n",
       "</table>\n",
       "</div>"
      ],
      "text/plain": [
       "    Pick         Player  Yrs  Draft  retirement_year  is_lottery_pick\n",
       "15    16  John Stockton   19   1984             2003                0\n",
       "45    46  Jerome Kersey   17   1984             2001                0"
      ]
     },
     "execution_count": 19,
     "metadata": {},
     "output_type": "execute_result"
    }
   ],
   "source": [
    "draft_84.loc[(draft_84.loc[:,\"Yrs\"] > 15) & (draft_84.loc[:,\"is_lottery_pick\"] == False)]"
   ]
  },
  {
   "cell_type": "markdown",
   "id": "ebecff34",
   "metadata": {},
   "source": [
    "Unsurprisingly, one of those is an all-time-great, John Stockton:\n",
    "- 10x NBA All-Star\n",
    "- NBA All-Star Game MVP\n",
    "- 2x All-NBA First Team\n",
    "- 6x All-NBA Second Team\n",
    "- 3x All-NBA Third Team\n",
    "- 5x NBA All-Defensive Second Team\n",
    "- 9x NBA assists leader\n",
    "- 2x NBA steals leader\n",
    "- NBA anniversary team\n",
    "\n",
    "As a result, his jersey number was retired on November 22, 2004 by the only franchise he ever played for, the Utah Jazz"
   ]
  },
  {
   "cell_type": "markdown",
   "id": "2992cdd0",
   "metadata": {},
   "source": [
    "Results above give us some insights, mainly:\n",
    "- There seems to be a significant difference for years played between non-lottery (NLP) and lottery picks (LP)\n",
    "    - In constrast to NLPs, LPs play -on average- 11 years\n",
    "    - In contrast to NLPs, LPs on 75th percentile is between 10-12 years : 75% of the distribution of lottery picks plays at most ~15 years\n",
    "    - The minimum amount of years played by an LP is above maximum number of years for a NLP\n",
    "    - Being a LP greatly increases your probability of playing. Indeed, LP have spent at least 3 years"
   ]
  },
  {
   "cell_type": "markdown",
   "id": "5be1bae5",
   "metadata": {},
   "source": [
    "##### Is there any relationship between being a lottery pick and the number of years played in the NBA?\n",
    "\n",
    "NBA franchises look at several parameters to decide if a prospect is considered a LP: potential, potential fitness into the team, etc\n",
    "\n",
    "Looking at these points, one may intuitevely think that being a LP is associated with longevity, i.e. the number of years in the NBA. Let's use the Spearman coefficient to assess the relationship between two independent variables. We use a **nonparametric** statistic because the distribution is not Gaussian (as discussed above).\n",
    "X, the independent variable is the number of years played in the league while Y, the dependent variable is the lottery pick status"
   ]
  },
  {
   "cell_type": "code",
   "execution_count": 20,
   "id": "2ed1ccd7",
   "metadata": {},
   "outputs": [
    {
     "data": {
      "image/png": "[encoded data removed]",
      "text/plain": [
       "<Figure size 720x432 with 1 Axes>"
      ]
     },
     "metadata": {
      "needs_background": "light"
     },
     "output_type": "display_data"
    }
   ],
   "source": [
    "fig, ax = plt.subplots(figsize=(10,6))\n",
    "ax.set_title(\"Number of years played given pick status\")\n",
    "sns.scatterplot(x=\"Pick\", y=\"Yrs\", hue=\"is_lottery_pick\", data=draft_84);"
   ]
  },
  {
   "cell_type": "code",
   "execution_count": 21,
   "id": "a6d6ee17",
   "metadata": {},
   "outputs": [
    {
     "name": "stdout",
     "output_type": "stream",
     "text": [
      "Spearman coefficient: -0.6495904412516762\n"
     ]
    }
   ],
   "source": [
    "# We prefer the Spearman coefficient because it is in the same scale as the values \n",
    "spearman_coefficient = stats.spearmanr(a=draft_84[\"Pick\"], b=draft_84[\"Yrs\"])\n",
    "print(f\"Spearman coefficient: {spearman_coefficient.correlation}\")"
   ]
  },
  {
   "cell_type": "markdown",
   "id": "e81db8ae",
   "metadata": {},
   "source": [
    "- Negative coefficient : b tends to decrease when a increases\n",
    "- A Spearman correlation of zero indicates that there is no tendency for b to either increase or decrease when a increases\n",
    "\n",
    "These results are intutitive: the later the player is picked, the less likely he is a good fit for the team, consequently the less years in the nba he will be.\n",
    "The coefficient tells us that the relationship between these two variables might be described by a monotonically decreasing function, i.e. function that preserves the order. For all x and y such that y ≤ x one has f ( y ) ≤ f ( x ) so f preserves the order "
   ]
  },
  {
   "cell_type": "markdown",
   "id": "917abbf1",
   "metadata": {},
   "source": [
    "##### When did most players retire ?\n",
    "\n",
    "We want to better understand the distribution of retirement for a specific DC\n",
    "One way to achieve it is to count the occurence of a year in the draft class"
   ]
  },
  {
   "cell_type": "code",
   "execution_count": 22,
   "id": "b7868f25",
   "metadata": {},
   "outputs": [
    {
     "data": {
      "image/png": "[encoded data removed]",
      "text/plain": [
       "<Figure size 720x360 with 1 Axes>"
      ]
     },
     "metadata": {
      "needs_background": "light"
     },
     "output_type": "display_data"
    }
   ],
   "source": [
    "draft_84.loc[:,\"retirement_year\"].value_counts().plot.bar(xlabel=\"Year\",\n",
    "                                                          ylabel=\"Number of Players\",\n",
    "                                                          title=\"Prevalence of Retirement year, 1984 NBA Draft Class\",\n",
    "                                                         figsize=(10,5),\n",
    "                                                         ylim=[0,180],\n",
    "                                                         colormap=\"plasma\");\n",
    "plt.annotate(\"Did not play\", xy=(0.4,160));"
   ]
  },
  {
   "cell_type": "markdown",
   "id": "870645b1",
   "metadata": {},
   "source": [
    "Now that we have described and understood what makes a DC great, let's have a look at [worst DC of all-time, the 2000 NBA Draft](https://bleacherreport.com/articles/734667-the-top-5-worst-nba-drafts-of-all-time).\n",
    "We will use the same apporach as the 1984 NBA Draft"
   ]
  },
  {
   "cell_type": "code",
   "execution_count": 23,
   "id": "55994e59",
   "metadata": {},
   "outputs": [
    {
     "data": {
      "text/html": [
       "<div>\n",
       "<style scoped>\n",
       "    .dataframe tbody tr th:only-of-type {\n",
       "        vertical-align: middle;\n",
       "    }\n",
       "\n",
       "    .dataframe tbody tr th {\n",
       "        vertical-align: top;\n",
       "    }\n",
       "\n",
       "    .dataframe thead th {\n",
       "        text-align: right;\n",
       "    }\n",
       "</style>\n",
       "<table border=\"1\" class=\"dataframe\">\n",
       "  <thead>\n",
       "    <tr style=\"text-align: right;\">\n",
       "      <th></th>\n",
       "      <th>Pick</th>\n",
       "      <th>Player</th>\n",
       "      <th>Yrs</th>\n",
       "      <th>Draft</th>\n",
       "      <th>retirement_year</th>\n",
       "      <th>is_lottery_pick</th>\n",
       "    </tr>\n",
       "  </thead>\n",
       "  <tbody>\n",
       "    <tr>\n",
       "      <th>0</th>\n",
       "      <td>1</td>\n",
       "      <td>Kenyon Martin</td>\n",
       "      <td>15</td>\n",
       "      <td>2000</td>\n",
       "      <td>2015</td>\n",
       "      <td>1</td>\n",
       "    </tr>\n",
       "    <tr>\n",
       "      <th>1</th>\n",
       "      <td>2</td>\n",
       "      <td>Stromile Swift</td>\n",
       "      <td>9</td>\n",
       "      <td>2000</td>\n",
       "      <td>2009</td>\n",
       "      <td>1</td>\n",
       "    </tr>\n",
       "    <tr>\n",
       "      <th>2</th>\n",
       "      <td>3</td>\n",
       "      <td>Darius Miles</td>\n",
       "      <td>7</td>\n",
       "      <td>2000</td>\n",
       "      <td>2007</td>\n",
       "      <td>1</td>\n",
       "    </tr>\n",
       "    <tr>\n",
       "      <th>3</th>\n",
       "      <td>4</td>\n",
       "      <td>Marcus Fizer</td>\n",
       "      <td>6</td>\n",
       "      <td>2000</td>\n",
       "      <td>2006</td>\n",
       "      <td>1</td>\n",
       "    </tr>\n",
       "    <tr>\n",
       "      <th>4</th>\n",
       "      <td>5</td>\n",
       "      <td>Mike Miller</td>\n",
       "      <td>16</td>\n",
       "      <td>2000</td>\n",
       "      <td>2016</td>\n",
       "      <td>1</td>\n",
       "    </tr>\n",
       "  </tbody>\n",
       "</table>\n",
       "</div>"
      ],
      "text/plain": [
       "   Pick          Player  Yrs  Draft  retirement_year  is_lottery_pick\n",
       "0     1   Kenyon Martin   15   2000             2015                1\n",
       "1     2  Stromile Swift    9   2000             2009                1\n",
       "2     3    Darius Miles    7   2000             2007                1\n",
       "3     4    Marcus Fizer    6   2000             2006                1\n",
       "4     5     Mike Miller   16   2000             2016                1"
      ]
     },
     "execution_count": 23,
     "metadata": {},
     "output_type": "execute_result"
    }
   ],
   "source": [
    "draft_00 = create_dataframe_given_year(draft, \"Draft\", 2000)\n",
    "# Reset index\n",
    "new_index = [number for number in range(0,len(draft_00.index))]\n",
    "draft_00.set_index(pd.Index(new_index),inplace=True)\n",
    "draft_00.head()"
   ]
  },
  {
   "cell_type": "markdown",
   "id": "61dc383d",
   "metadata": {},
   "source": [
    "##### What is the average or median years duration in the league ?"
   ]
  },
  {
   "cell_type": "code",
   "execution_count": 24,
   "id": "11a2751b",
   "metadata": {},
   "outputs": [
    {
     "name": "stdout",
     "output_type": "stream",
     "text": [
      "Mean: 6.206896551724138\n",
      "Standard deviation: 4.912421137047109\n",
      "Skweness: 0.3668992409647038\n",
      "Kurtosis: -1.072479360859562\n",
      "\n",
      "Statistic: 0.925727367401123\n",
      "p-value: 0.0016206939471885562\n"
     ]
    },
    {
     "data": {
      "image/png": "[encoded data removed]",
      "text/plain": [
       "<Figure size 432x288 with 1 Axes>"
      ]
     },
     "metadata": {
      "needs_background": "light"
     },
     "output_type": "display_data"
    }
   ],
   "source": [
    "years_00 = draft_00.loc[:,\"Yrs\"]\n",
    "compute_descriptive_statistics(years_00, charting_enabled=True, chart_title=\"Frequency of years played - '00 NBA Draft'\",test_normality_info=True )"
   ]
  },
  {
   "cell_type": "code",
   "execution_count": 25,
   "id": "e8ab2444",
   "metadata": {},
   "outputs": [
    {
     "data": {
      "text/plain": [
       "0.7413793103448276"
      ]
     },
     "execution_count": 25,
     "metadata": {},
     "output_type": "execute_result"
    }
   ],
   "source": [
    "years_00[years > 0].count() / years_00.size"
   ]
  },
  {
   "cell_type": "markdown",
   "id": "32dd0a77",
   "metadata": {},
   "source": [
    "- Distribution is not normal\n",
    "    - Mean is different than 0\n",
    "    - Standard Deviation is different than 1\n",
    "- Most players (74.14%) of that DC played in the NBA\n",
    "- Distribution is not skewed (~ 0.3)\n",
    "- Player played on average 6 years"
   ]
  },
  {
   "cell_type": "code",
   "execution_count": 26,
   "id": "7d4016a0",
   "metadata": {},
   "outputs": [
    {
     "name": "stdout",
     "output_type": "stream",
     "text": [
      "Descriptive statistics - Years in the NBA - Lottery picks\n",
      "Mean: 9.2\n",
      "Standard deviation: 4.3127717305695645\n",
      "Skweness: 0.4227232047783495\n",
      "Kurtosis: -1.189693983732931\n",
      "\n",
      "Descriptive statistics - Years in the NBA - Not lottery picks\n",
      "Mean: 5.162790697674419\n",
      "Standard deviation: 4.715376228781646\n",
      "Skweness: 0.5130385501373484\n",
      "Kurtosis: -1.1673450483050343\n",
      "\n"
     ]
    },
    {
     "data": {
      "image/png": "[encoded data removed]",
      "text/plain": [
       "<Figure size 432x288 with 1 Axes>"
      ]
     },
     "metadata": {
      "needs_background": "light"
     },
     "output_type": "display_data"
    }
   ],
   "source": [
    "df_view_lottery_pick = df_view_is_equal_comparison(draft_00,\"is_lottery_pick\", True)\n",
    "df_view_not_lottery_pick = df_view_is_equal_comparison(draft_00, \"is_lottery_pick\", False)\n",
    "# Selects all the rows for the Yrs feature given player is a lottery pick\n",
    "lottery_pick_series = df_view_lottery_pick.loc[:,\"Yrs\"]\n",
    "# Selects all the rows for the Yrs feature given player is not a lottery pick\n",
    "not_lottery_pick_series = df_view_not_lottery_pick.loc[:,\"Yrs\"]\n",
    "print(\"Descriptive statistics - Years in the NBA - Lottery picks\")\n",
    "compute_descriptive_statistics(lottery_pick_series, charting_enabled=False)\n",
    "print(\"Descriptive statistics - Years in the NBA - Not lottery picks\")\n",
    "compute_descriptive_statistics(not_lottery_pick_series, charting_enabled=False)\n",
    "# Creates a boxplot to compare the distribution between LPs and NLPs\n",
    "sns.boxplot(x=\"is_lottery_pick\", y=\"Yrs\", data=draft_00, order=[True, False]);"
   ]
  },
  {
   "cell_type": "markdown",
   "id": "cf67a476",
   "metadata": {},
   "source": [
    "Results above give us some insights, mainly:\n",
    "- Both populations non-lottery (NLP) and lottery picks (LP) are more homogeneous than the 1984 NBA Draft\n",
    "    - There is no significant difference in the playing time given your pick status, lottery or non-lottery\n",
    "    - Given by the positive skewness, outliers are located above the 75th percentile\n",
    "    - Both distributions have the same spread, 4 years"
   ]
  },
  {
   "cell_type": "code",
   "execution_count": 27,
   "id": "23a24853",
   "metadata": {},
   "outputs": [
    {
     "data": {
      "image/png": "[encoded data removed]",
      "text/plain": [
       "<Figure size 720x432 with 1 Axes>"
      ]
     },
     "metadata": {
      "needs_background": "light"
     },
     "output_type": "display_data"
    }
   ],
   "source": [
    "fig, ax = plt.subplots(figsize=(10,6))\n",
    "ax.set_title(\"Number of years played given pick status\")\n",
    "sns.scatterplot(x=\"Pick\", y=\"Yrs\", hue=\"is_lottery_pick\", data=draft_00);"
   ]
  },
  {
   "cell_type": "code",
   "execution_count": 28,
   "id": "fcfa1e8e",
   "metadata": {},
   "outputs": [
    {
     "name": "stdout",
     "output_type": "stream",
     "text": [
      "Spearman coefficient: -0.6634397439712597\n"
     ]
    }
   ],
   "source": [
    "# We prefer the Spearman coefficient because it is in the same scale as the values \n",
    "spearman_coefficient = stats.spearmanr(a=draft_00[\"Pick\"], b=draft_00[\"Yrs\"])\n",
    "print(f\"Spearman coefficient: {spearman_coefficient.correlation}\")"
   ]
  },
  {
   "cell_type": "code",
   "execution_count": 29,
   "id": "5b9dd86a",
   "metadata": {},
   "outputs": [
    {
     "data": {
      "image/png": "[encoded data removed]",
      "text/plain": [
       "<Figure size 720x360 with 1 Axes>"
      ]
     },
     "metadata": {
      "needs_background": "light"
     },
     "output_type": "display_data"
    }
   ],
   "source": [
    "draft_00.loc[:,\"retirement_year\"].value_counts().plot.bar(xlabel=\"Year\",\n",
    "                                                          ylabel=\"Number of Players\",\n",
    "                                                          title=\"Prevalence of Retirement year, 2000 NBA Draft Class\",\n",
    "                                                         figsize=(10,5),\n",
    "                                                         ylim=[0,10],\n",
    "                                                         colormap=\"plasma\");"
   ]
  },
  {
   "cell_type": "markdown",
   "id": "b1d3aebb",
   "metadata": {},
   "source": [
    "As discussed earlier, the **Offensive Win Share** is a highly regarded statistic that tells us a lot about the impact of a player on a team"
   ]
  },
  {
   "cell_type": "code",
   "execution_count": 30,
   "id": "ed043fa2",
   "metadata": {},
   "outputs": [
    {
     "data": {
      "text/html": [
       "<div>\n",
       "<style scoped>\n",
       "    .dataframe tbody tr th:only-of-type {\n",
       "        vertical-align: middle;\n",
       "    }\n",
       "\n",
       "    .dataframe tbody tr th {\n",
       "        vertical-align: top;\n",
       "    }\n",
       "\n",
       "    .dataframe thead th {\n",
       "        text-align: right;\n",
       "    }\n",
       "</style>\n",
       "<table border=\"1\" class=\"dataframe\">\n",
       "  <thead>\n",
       "    <tr style=\"text-align: right;\">\n",
       "      <th></th>\n",
       "      <th>Season</th>\n",
       "      <th>Player</th>\n",
       "      <th>WS</th>\n",
       "    </tr>\n",
       "  </thead>\n",
       "  <tbody>\n",
       "    <tr>\n",
       "      <th>1496</th>\n",
       "      <td>1984</td>\n",
       "      <td>Adrian Dantley*</td>\n",
       "      <td>14.6</td>\n",
       "    </tr>\n",
       "    <tr>\n",
       "      <th>1497</th>\n",
       "      <td>1984</td>\n",
       "      <td>Al Wood</td>\n",
       "      <td>4.4</td>\n",
       "    </tr>\n",
       "    <tr>\n",
       "      <th>1498</th>\n",
       "      <td>1984</td>\n",
       "      <td>Albert King</td>\n",
       "      <td>4.3</td>\n",
       "    </tr>\n",
       "    <tr>\n",
       "      <th>1499</th>\n",
       "      <td>1984</td>\n",
       "      <td>Alex English*</td>\n",
       "      <td>8.2</td>\n",
       "    </tr>\n",
       "    <tr>\n",
       "      <th>1500</th>\n",
       "      <td>1984</td>\n",
       "      <td>Allen Leavell</td>\n",
       "      <td>4.3</td>\n",
       "    </tr>\n",
       "    <tr>\n",
       "      <th>...</th>\n",
       "      <td>...</td>\n",
       "      <td>...</td>\n",
       "      <td>...</td>\n",
       "    </tr>\n",
       "    <tr>\n",
       "      <th>1800</th>\n",
       "      <td>1984</td>\n",
       "      <td>Wally Walker</td>\n",
       "      <td>0.5</td>\n",
       "    </tr>\n",
       "    <tr>\n",
       "      <th>1801</th>\n",
       "      <td>1984</td>\n",
       "      <td>Walter Davis</td>\n",
       "      <td>6.2</td>\n",
       "    </tr>\n",
       "    <tr>\n",
       "      <th>1802</th>\n",
       "      <td>1984</td>\n",
       "      <td>Wayne Cooper</td>\n",
       "      <td>4.1</td>\n",
       "    </tr>\n",
       "    <tr>\n",
       "      <th>1803</th>\n",
       "      <td>1984</td>\n",
       "      <td>Wes Matthews</td>\n",
       "      <td>0.4</td>\n",
       "    </tr>\n",
       "    <tr>\n",
       "      <th>1804</th>\n",
       "      <td>1984</td>\n",
       "      <td>World B. Free</td>\n",
       "      <td>5.3</td>\n",
       "    </tr>\n",
       "  </tbody>\n",
       "</table>\n",
       "<p>309 rows × 3 columns</p>\n",
       "</div>"
      ],
      "text/plain": [
       "      Season           Player    WS\n",
       "1496    1984  Adrian Dantley*  14.6\n",
       "1497    1984          Al Wood   4.4\n",
       "1498    1984      Albert King   4.3\n",
       "1499    1984    Alex English*   8.2\n",
       "1500    1984    Allen Leavell   4.3\n",
       "...      ...              ...   ...\n",
       "1800    1984     Wally Walker   0.5\n",
       "1801    1984     Walter Davis   6.2\n",
       "1802    1984     Wayne Cooper   4.1\n",
       "1803    1984     Wes Matthews   0.4\n",
       "1804    1984    World B. Free   5.3\n",
       "\n",
       "[309 rows x 3 columns]"
      ]
     },
     "execution_count": 30,
     "metadata": {},
     "output_type": "execute_result"
    }
   ],
   "source": [
    "season_84 = create_dataframe_given_year(seasons,\"Season\", 1984)\n",
    "season_84"
   ]
  },
  {
   "cell_type": "markdown",
   "id": "1695fc02",
   "metadata": {},
   "source": [
    "Let's reset the index"
   ]
  },
  {
   "cell_type": "code",
   "execution_count": 31,
   "id": "e20819b3",
   "metadata": {},
   "outputs": [
    {
     "data": {
      "text/html": [
       "<div>\n",
       "<style scoped>\n",
       "    .dataframe tbody tr th:only-of-type {\n",
       "        vertical-align: middle;\n",
       "    }\n",
       "\n",
       "    .dataframe tbody tr th {\n",
       "        vertical-align: top;\n",
       "    }\n",
       "\n",
       "    .dataframe thead th {\n",
       "        text-align: right;\n",
       "    }\n",
       "</style>\n",
       "<table border=\"1\" class=\"dataframe\">\n",
       "  <thead>\n",
       "    <tr style=\"text-align: right;\">\n",
       "      <th></th>\n",
       "      <th>Season</th>\n",
       "      <th>Player</th>\n",
       "      <th>WS</th>\n",
       "    </tr>\n",
       "  </thead>\n",
       "  <tbody>\n",
       "    <tr>\n",
       "      <th>0</th>\n",
       "      <td>1984</td>\n",
       "      <td>Adrian Dantley*</td>\n",
       "      <td>14.6</td>\n",
       "    </tr>\n",
       "    <tr>\n",
       "      <th>1</th>\n",
       "      <td>1984</td>\n",
       "      <td>Al Wood</td>\n",
       "      <td>4.4</td>\n",
       "    </tr>\n",
       "    <tr>\n",
       "      <th>2</th>\n",
       "      <td>1984</td>\n",
       "      <td>Albert King</td>\n",
       "      <td>4.3</td>\n",
       "    </tr>\n",
       "    <tr>\n",
       "      <th>3</th>\n",
       "      <td>1984</td>\n",
       "      <td>Alex English*</td>\n",
       "      <td>8.2</td>\n",
       "    </tr>\n",
       "    <tr>\n",
       "      <th>4</th>\n",
       "      <td>1984</td>\n",
       "      <td>Allen Leavell</td>\n",
       "      <td>4.3</td>\n",
       "    </tr>\n",
       "  </tbody>\n",
       "</table>\n",
       "</div>"
      ],
      "text/plain": [
       "   Season           Player    WS\n",
       "0    1984  Adrian Dantley*  14.6\n",
       "1    1984          Al Wood   4.4\n",
       "2    1984      Albert King   4.3\n",
       "3    1984    Alex English*   8.2\n",
       "4    1984    Allen Leavell   4.3"
      ]
     },
     "execution_count": 31,
     "metadata": {},
     "output_type": "execute_result"
    }
   ],
   "source": [
    "# Creates a new index starting from 0 to the size of the DataFrame\n",
    "new_index = [number for number in range(0,len(season_84.index))]\n",
    "# inplace=True does not create a copy dataframe\n",
    "season_84.set_index(pd.Index(new_index),inplace=True)\n",
    "season_84.head()"
   ]
  },
  {
   "cell_type": "code",
   "execution_count": 32,
   "id": "d61844d3",
   "metadata": {},
   "outputs": [],
   "source": [
    "df_positive_ws = df_view_is_more_comparison(season_84, \"WS\", 0)\n",
    "df_negative_ws = df_view_is_less_comparison(season_84, \"WS\", 0)"
   ]
  },
  {
   "cell_type": "code",
   "execution_count": 33,
   "id": "bb5db60c",
   "metadata": {},
   "outputs": [],
   "source": [
    "positive_ws_series = df_positive_ws.loc[:,\"WS\"]\n",
    "negative_ws_series = df_negative_ws.loc[:,\"WS\"]"
   ]
  },
  {
   "cell_type": "code",
   "execution_count": 34,
   "id": "bf3a5511",
   "metadata": {},
   "outputs": [
    {
     "data": {
      "image/png": "[encoded data removed]",
      "text/plain": [
       "<Figure size 1080x360 with 2 Axes>"
      ]
     },
     "metadata": {
      "needs_background": "light"
     },
     "output_type": "display_data"
    }
   ],
   "source": [
    "fig, (ax1,ax2) = plt.subplots(1,2,figsize=(15,5))\n",
    "ax1.hist(positive_ws_series);\n",
    "ax1.set_title(\"Distribution of positive win share - '84 NBA Draft\");\n",
    "ax1.set_xlabel(\"Win share\");\n",
    "ax1.set_ylabel(\"Count\");\n",
    "ax2.hist(negative_ws_series);\n",
    "ax2.set_title(\"Distribution of negative win share -'84 NBA Draft\");\n",
    "ax2.set_xlabel(\"Win share\");\n",
    "ax2.set_ylabel(\"Count\");"
   ]
  },
  {
   "cell_type": "markdown",
   "id": "b4a124df",
   "metadata": {},
   "source": [
    "Let's compute descriptive statistics for the offensive win share"
   ]
  },
  {
   "cell_type": "code",
   "execution_count": 35,
   "id": "f0b8b52c",
   "metadata": {},
   "outputs": [
    {
     "name": "stdout",
     "output_type": "stream",
     "text": [
      "Mean: 3.0524271844660196\n",
      "Standard deviation: 2.9402439820640396\n",
      "Skweness: 1.173554085178683\n",
      "Kurtosis: 1.1423912705299175\n",
      "\n",
      "Maximum value:  14.6\n",
      "Minimum value:  -0.4\n"
     ]
    }
   ],
   "source": [
    "def bin_dataframe_given_feature(source_datframe: pd.DataFrame, feature:str, threshold:int, ceiling:int):\n",
    "    return source_datframe.loc[(source_datframe.loc[:,feature] < ceiling) & (source_datframe.loc[:,feature] > threshold)]\n",
    "\n",
    "compute_descriptive_statistics(season_84.loc[:,\"WS\"], charting_enabled=False, test_normality_info=True)\n",
    "print(\"Maximum value: \", season_84[\"WS\"].max())\n",
    "print(\"Minimum value: \", season_84[\"WS\"].min())"
   ]
  },
  {
   "cell_type": "markdown",
   "id": "124d1c53",
   "metadata": {},
   "source": [
    "[Binning](https://en.wikipedia.org/wiki/Data_binning) WS across multiple categories may give a clearer picture and reduce the effects of minor observation errors. Let's bin WS every 2 point values"
   ]
  },
  {
   "cell_type": "code",
   "execution_count": 36,
   "id": "de4845f0",
   "metadata": {},
   "outputs": [],
   "source": [
    "over_12_ws = bin_dataframe_given_feature(season_84, \"WS\", 12, 16).loc[:,\"WS\"].size\n",
    "over_10_ws = bin_dataframe_given_feature(season_84, \"WS\", 10, 13).loc[:,\"WS\"].size\n",
    "over_8_ws = bin_dataframe_given_feature(season_84, \"WS\", 8, 11).loc[:,\"WS\"].size\n",
    "over_6_ws = bin_dataframe_given_feature(season_84, \"WS\", 6, 9).loc[:,\"WS\"].size\n",
    "over_4_ws = bin_dataframe_given_feature(season_84, \"WS\", 4, 7).loc[:,\"WS\"].size\n",
    "over_2_ws = bin_dataframe_given_feature(season_84, \"WS\", 2, 7).loc[:,\"WS\"].size\n",
    "over_0_ws = bin_dataframe_given_feature(season_84, \"WS\", 0, 3).loc[:,\"WS\"].size\n",
    "under_0_ws = bin_dataframe_given_feature(season_84, \"WS\", -2, 0).loc[:,\"WS\"].size"
   ]
  },
  {
   "cell_type": "markdown",
   "id": "8a28d2b5",
   "metadata": {},
   "source": [
    "We want to compare the categories within a season and across decades\n",
    "First let's look a the discrepancy within season.\n",
    "What data gives valuable information ? \n",
    "- Number of players within the range\n",
    "    - We will use a bar plot where x = categories, y = count"
   ]
  },
  {
   "cell_type": "code",
   "execution_count": 37,
   "id": "21cd6158",
   "metadata": {},
   "outputs": [
    {
     "data": {
      "image/png": "[encoded data removed]",
      "text/plain": [
       "<Figure size 432x288 with 1 Axes>"
      ]
     },
     "metadata": {
      "needs_background": "light"
     },
     "output_type": "display_data"
    }
   ],
   "source": [
    "index = [ \"over_12_ws\", \"over_10_ws\",\"over_8_ws\",\"over_6_ws\", \"over_4_ws\",\"over_2_ws\",\"over_0_ws\", \"under_0_ws\"]\n",
    "data = [over_12_ws, over_10_ws, over_8_ws, over_6_ws, over_4_ws, over_2_ws, over_0_ws, under_0_ws]\n",
    "\n",
    "df_ws_84 = pd.DataFrame(data=data, index=index, columns=[\"Number_players\"]).sort_values(by=\"Number_players\", ascending=False)\n",
    "df_ws_84.plot.bar();"
   ]
  },
  {
   "cell_type": "markdown",
   "id": "766820ce",
   "metadata": {},
   "source": [
    "Let's take a look at the ws change across seasons"
   ]
  },
  {
   "cell_type": "code",
   "execution_count": 38,
   "id": "30650a58",
   "metadata": {},
   "outputs": [
    {
     "data": {
      "image/png": "[encoded data removed]",
      "text/plain": [
       "<Figure size 720x576 with 1 Axes>"
      ]
     },
     "metadata": {
      "needs_background": "light"
     },
     "output_type": "display_data"
    }
   ],
   "source": [
    "grouped_season = seasons.groupby(\"Season\")\n",
    "fig, ax = plt.subplots(figsize=(10,8))\n",
    "ax.plot(grouped_season.median());\n",
    "ax.minorticks_on()"
   ]
  },
  {
   "cell_type": "code",
   "execution_count": 39,
   "id": "0e2ce16a",
   "metadata": {},
   "outputs": [
    {
     "name": "stdout",
     "output_type": "stream",
     "text": [
      "1984 NBA DC impact: 1.1176470588235294\n",
      "2000 NBA DC impact: 1.0\n"
     ]
    }
   ],
   "source": [
    "print(f\"1984 NBA DC impact: {1.9/1.7}\")\n",
    "print(f\"2000 NBA DC impact: {1.8/1.8}\")"
   ]
  },
  {
   "cell_type": "markdown",
   "id": "1b518553",
   "metadata": {},
   "source": [
    "Huge drop in '99 season due to the [1998-1999 NBA season that lasted more than 6 months](https://en.wikipedia.org/wiki/1998%E2%80%9399_NBA_lockout).\n",
    "Season had to be shortened to 50 games (instead of 82 games)\n",
    "\n",
    "Looking at the line plot above, there seems to have been 3 trend changes\n",
    "1. From 1978 to 1980\n",
    "2. From 1981 to 1986\n",
    "3. From 1987 to 2016\n",
    "\n",
    "The 1984 DC has an immediate impact on the league offense, as can be seen by a spike in between 1984 and 1985. This spike is a **11%** offense improvement in that year. On the other hand, on 2000-2001, the difference in offense between two seasons is constant"
   ]
  },
  {
   "cell_type": "markdown",
   "id": "907a38e2",
   "metadata": {},
   "source": [
    "### Short Discussion"
   ]
  },
  {
   "cell_type": "markdown",
   "id": "15f8eebc",
   "metadata": {},
   "source": [
    "- Enrich the dataset with other dimensions\n",
    "- Take into account playing styles (we have seen recently an explosion of the 3-Point shot while eighties basketball were more focused on favorable matchups for big men, i.e. pivots\n",
    "\n",
    "To have a better understanding of the impact of the 84 DC (or any DC) on the NBA, one should create another dataset with all players drafted in that year, their WS on that year and over the years, **until all players in that draft retired**. This dataset would provide valuable information about:\n",
    "- the impact of players in that draft\n",
    "- the consistency of their offensive performances over the years\n",
    "By compiling these data, we would gain more insights about the competitveness of a season, which season had the best offensive performances, etc.\n",
    "\n",
    "Answering the question of whether a DC is the GOAT is pointless: players play in different eras, with different philosophies, training styles, medicine and nutrition. You can't compare peaches with apples. However, this project has given us a better understanding of a class of NBA players and their characteristics\n"
   ]
  }
 ],
 "metadata": {
  "kernelspec": {
   "display_name": "Python 3 (ipykernel)",
   "language": "python",
   "name": "python3"
  },
  "language_info": {
   "codemirror_mode": {
    "name": "ipython",
    "version": 3
   },
   "file_extension": ".py",
   "mimetype": "text/x-python",
   "name": "python",
   "nbconvert_exporter": "python",
   "pygments_lexer": "ipython3",
   "version": "3.8.3"
  }
 },
 "nbformat": 4,
 "nbformat_minor": 5
}
